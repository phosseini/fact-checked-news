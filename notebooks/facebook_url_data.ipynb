{
 "cells": [
  {
   "cell_type": "markdown",
   "metadata": {},
   "source": [
    "Line index in `tpfc_rating.txt` corresponds to file name + '.txt' in the `news_articles` folder."
   ]
  },
  {
   "cell_type": "code",
   "execution_count": 1,
   "metadata": {},
   "outputs": [],
   "source": [
    "# reading third-party fact checking labels\n",
    "with open(\"../data/facebook_url_data/tpfc_rating.txt\", \"r\") as file:\n",
    "    tpfc_rating = file.read().splitlines()"
   ]
  },
  {
   "cell_type": "code",
   "execution_count": 2,
   "metadata": {},
   "outputs": [],
   "source": [
    "tpfc_rating_idx = 10\n",
    "with open(\"../data/facebook_url_data/news_articles/{}.txt\".format(tpfc_rating_idx), \"r\") as file:\n",
    "    news_article = file.read()"
   ]
  },
  {
   "cell_type": "code",
   "execution_count": 3,
   "metadata": {},
   "outputs": [
    {
     "data": {
      "text/plain": [
       "('fact checked as false',\n",
       " 'Federal Judge Peter J. Messitte has just ruled in favor of two attorney generals seeking to subpoena the Trump organization relating to President Trump unlawfully receiving emoluments from foreign and domestic governments.\\n\\nD.C. Attorney General Karl A. Racine and Maryland Attorney General Brian E. Frosh can now subpoena the Trump organization, thereby forcing them to preserve documents in relation to President Trump’s alleged indiscretions.\\n\\nThe case advances a very high-profile attempt to see if President Trump is violating the emoluments clause of the U.S. Constitution, which precludes him from receiving gifts from foreign or state governments. The Trump Organization will be compelled to comply with the court’s ruling.\\n\\n“This ruling is an important first step in our litigation against President Trump for unlawfully receiving emoluments from foreign and domestic governments,” Racine said in a statement.\\n\\nPer the Post:\\n\\nBecause Trump continues to benefit financially from his hotel, resort and golf properties — in some cases from clients affiliated with foreign governments — Frosh and Racine alleged in their June complaint that Trump had committed “unprecedented constitutional violations.”\\n\\nState spending that benefits the president may be considered a violation of the domestic emolument clause, which says the president “shall not receive” any emolument, other than fixed compensation, from “the United States, or any of them.”\\n\\nThe Justice Department had sought to squash the subpoena earlier in September, but Judge Messitte wasn’t convinced with their argument. \\n\\nPresident Trump has been accused of profiting from the presidency, and this case will seek to prove that assertion.')"
      ]
     },
     "execution_count": 3,
     "metadata": {},
     "output_type": "execute_result"
    }
   ],
   "source": [
    "tpfc_rating[tpfc_rating_idx], news_article"
   ]
  },
  {
   "cell_type": "code",
   "execution_count": null,
   "metadata": {},
   "outputs": [],
   "source": []
  }
 ],
 "metadata": {
  "kernelspec": {
   "display_name": "Python 3",
   "language": "python",
   "name": "python3"
  },
  "language_info": {
   "codemirror_mode": {
    "name": "ipython",
    "version": 3
   },
   "file_extension": ".py",
   "mimetype": "text/x-python",
   "name": "python",
   "nbconvert_exporter": "python",
   "pygments_lexer": "ipython3",
   "version": "3.7.9"
  }
 },
 "nbformat": 4,
 "nbformat_minor": 2
}
